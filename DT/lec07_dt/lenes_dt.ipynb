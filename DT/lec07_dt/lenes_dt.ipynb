{
 "cells": [
  {
   "cell_type": "markdown",
   "metadata": {},
   "source": [
    "该数据集中的每个样本包含患者的年龄、近视/远视、是否散光、流泪量4个特征，以及医生推荐他们佩戴的隐形眼镜类型（硬材质、软材质、不佩戴）。使用该数据集可以构造一棵决策树，帮助医生给患者推荐应佩戴眼镜的类型。\n",
    "\n",
    "![隐形眼镜数据集](../dataset/lenses/pic01.png)"
   ]
  },
  {
   "cell_type": "code",
   "metadata": {
    "ExecuteTime": {
     "end_time": "2024-11-16T06:30:51.360969Z",
     "start_time": "2024-11-16T06:30:51.351969Z"
    }
   },
   "source": [
    "import numpy as np\n",
    "import decision_tree as DT\n",
    "from decisiontreeplotter import DecisionTreePlotter\n",
    "\n",
    "import importlib\n",
    "\n",
    "importlib.reload(DT)"
   ],
   "outputs": [
    {
     "data": {
      "text/plain": [
       "<module 'decision_tree' from 'D:\\\\OneDrive\\\\SUSTech Files\\\\2024_秋\\\\人工智能与机器学习\\\\Lab\\\\DT\\\\lec07_dt\\\\decision_tree.py'>"
      ]
     },
     "execution_count": 5,
     "metadata": {},
     "output_type": "execute_result"
    }
   ],
   "execution_count": 5
  },
  {
   "cell_type": "code",
   "metadata": {
    "ExecuteTime": {
     "end_time": "2024-11-16T06:30:51.484428Z",
     "start_time": "2024-11-16T06:30:51.470157Z"
    }
   },
   "source": [
    "data = np.loadtxt('../dataset/lenses/lenses.data', dtype=int)\n",
    "data"
   ],
   "outputs": [
    {
     "data": {
      "text/plain": [
       "array([[ 1,  1,  1,  1,  1,  3],\n",
       "       [ 2,  1,  1,  1,  2,  2],\n",
       "       [ 3,  1,  1,  2,  1,  3],\n",
       "       [ 4,  1,  1,  2,  2,  1],\n",
       "       [ 5,  1,  2,  1,  1,  3],\n",
       "       [ 6,  1,  2,  1,  2,  2],\n",
       "       [ 7,  1,  2,  2,  1,  3],\n",
       "       [ 8,  1,  2,  2,  2,  1],\n",
       "       [ 9,  2,  1,  1,  1,  3],\n",
       "       [10,  2,  1,  1,  2,  2],\n",
       "       [11,  2,  1,  2,  1,  3],\n",
       "       [12,  2,  1,  2,  2,  1],\n",
       "       [13,  2,  2,  1,  1,  3],\n",
       "       [14,  2,  2,  1,  2,  2],\n",
       "       [15,  2,  2,  2,  1,  3],\n",
       "       [16,  2,  2,  2,  2,  3],\n",
       "       [17,  3,  1,  1,  1,  3],\n",
       "       [18,  3,  1,  1,  2,  3],\n",
       "       [19,  3,  1,  2,  1,  3],\n",
       "       [20,  3,  1,  2,  2,  1],\n",
       "       [21,  3,  2,  1,  1,  3],\n",
       "       [22,  3,  2,  1,  2,  2],\n",
       "       [23,  3,  2,  2,  1,  3],\n",
       "       [24,  3,  2,  2,  2,  3]])"
      ]
     },
     "execution_count": 6,
     "metadata": {},
     "output_type": "execute_result"
    }
   ],
   "execution_count": 6
  },
  {
   "cell_type": "code",
   "metadata": {
    "ExecuteTime": {
     "end_time": "2024-11-16T06:30:51.547246Z",
     "start_time": "2024-11-16T06:30:51.533656Z"
    }
   },
   "source": [
    "X = data[:, 1:-1]\n",
    "y = data[:, -1]\n",
    "\n",
    "np.random.seed(1)\n",
    "label_1 = np.where(y == 1)[0]\n",
    "label_2 = np.where(y == 2)[0]\n",
    "label_3 = np.where(y == 3)[0]\n",
    "\n",
    "label_1_train = np.random.choice(label_1, size=int(len(label_1) * 0.7), replace=False)\n",
    "label_1_test = np.setdiff1d(label_1, label_1_train)\n",
    "\n",
    "label_2_train = np.random.choice(label_2, size=int(len(label_2) * 0.7), replace=False)\n",
    "label_2_test = np.setdiff1d(label_2, label_2_train)\n",
    "\n",
    "label_3_train = np.random.choice(label_3, size=int(len(label_3) * 0.7), replace=False)\n",
    "label_3_test = np.setdiff1d(label_3, label_3_train)\n",
    "\n",
    "train_indices = np.concatenate([label_1_train, label_2_train, label_3_train])\n",
    "test_indices = np.concatenate([label_1_test, label_2_test, label_3_test])\n",
    "\n",
    "X_train, X_test = X[train_indices], X[test_indices]\n",
    "y_train, y_test = y[train_indices], y[test_indices]\n",
    "\n",
    "dt01 = DT.DecisionTree()\n",
    "dt01.train(X_train, y_train)\n",
    "\n",
    "print(dt01)"
   ],
   "outputs": [
    {
     "name": "stdout",
     "output_type": "stream",
     "text": [
      "Internal node <3>:\n",
      "\t[1]-> Leaf node (3)\n",
      "\t[2]-> Internal node <2>:\n",
      "\t\t[1]-> Leaf node (2)\n",
      "\t\t[2]-> Internal node <1>:\n",
      "\t\t\t[1]-> Leaf node (1)\n",
      "\t\t\t[2]-> Leaf node (3)\n",
      "\t\t\n",
      "\t\n",
      "\n"
     ]
    }
   ],
   "execution_count": 7
  },
  {
   "cell_type": "code",
   "metadata": {
    "ExecuteTime": {
     "end_time": "2024-11-16T06:30:51.995349Z",
     "start_time": "2024-11-16T06:30:51.595650Z"
    }
   },
   "source": [
    "features_dict = {\n",
    "    0: {'name': 'age', 'value_names': {1: 'young',\n",
    "                                       2: 'pre-presbyopic',\n",
    "                                       3: 'presbyopic'}\n",
    "        },\n",
    "    1: {'name': 'prescript',\n",
    "        'value_names': {1: 'myope',\n",
    "                        2: 'hypermetrope'}\n",
    "        },\n",
    "    2: {'name': 'astigmatic',\n",
    "        'value_names': {1: 'no',\n",
    "                        2: 'yes'}\n",
    "        },\n",
    "    3: {'name': 'tear rate',\n",
    "        'value_names': {1: 'reduced',\n",
    "                        2: 'normal'}\n",
    "        },\n",
    "}\n",
    "\n",
    "label_dict = {\n",
    "    1: 'hard',\n",
    "    2: 'soft',\n",
    "    3: 'no_lenses',\n",
    "}\n",
    "\n",
    "dtp = DecisionTreePlotter(dt01.tree_, feature_names=features_dict, label_names=label_dict)\n",
    "dtp.plot()\n",
    "\n",
    "y_pred = dt01.predict(X_test)\n",
    "score = 0\n",
    "for i in range(len(y_test)):\n",
    "    gain = 1 if y_test[i] == y_pred[i] else 0\n",
    "    score += gain\n",
    "accuracy = score / len(y_test)\n",
    "print(accuracy)"
   ],
   "outputs": [
    {
     "name": "stdout",
     "output_type": "stream",
     "text": [
      "0.7777777777777778\n"
     ]
    }
   ],
   "execution_count": 8
  },
  {
   "metadata": {
    "ExecuteTime": {
     "end_time": "2024-11-16T06:30:52.010554Z",
     "start_time": "2024-11-16T06:30:52.006285Z"
    }
   },
   "cell_type": "code",
   "source": "",
   "outputs": [],
   "execution_count": null
  }
 ],
 "metadata": {
  "kernelspec": {
   "display_name": "py311",
   "language": "python",
   "name": "python3"
  },
  "language_info": {
   "codemirror_mode": {
    "name": "ipython",
    "version": 3
   },
   "file_extension": ".py",
   "mimetype": "text/x-python",
   "name": "python",
   "nbconvert_exporter": "python",
   "pygments_lexer": "ipython3",
   "version": "3.11.8"
  }
 },
 "nbformat": 4,
 "nbformat_minor": 2
}
